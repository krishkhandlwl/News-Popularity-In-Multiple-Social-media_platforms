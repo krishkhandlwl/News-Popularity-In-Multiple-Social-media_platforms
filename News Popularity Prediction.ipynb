{
 "cells": [
  {
   "cell_type": "code",
   "execution_count": 3,
   "id": "5d97991a",
   "metadata": {},
   "outputs": [
    {
     "name": "stdout",
     "output_type": "stream",
     "text": [
      "Requirement already satisfied: nltk in c:\\users\\krish\\anaconda3\\lib\\site-packages (3.6.5)Note: you may need to restart the kernel to use updated packages.\n",
      "Requirement already satisfied: click in c:\\users\\krish\\anaconda3\\lib\\site-packages (from nltk) (8.0.3)\n",
      "Requirement already satisfied: joblib in c:\\users\\krish\\anaconda3\\lib\\site-packages (from nltk) (1.1.0)\n",
      "Requirement already satisfied: regex>=2021.8.3 in c:\\users\\krish\\anaconda3\\lib\\site-packages (from nltk) (2021.8.3)\n",
      "Requirement already satisfied: tqdm in c:\\users\\krish\\anaconda3\\lib\\site-packages (from nltk) (4.62.3)\n",
      "\n",
      "Requirement already satisfied: colorama in c:\\users\\krish\\anaconda3\\lib\\site-packages (from click->nltk) (0.4.4)\n"
     ]
    }
   ],
   "source": [
    "pip install nltk"
   ]
  },
  {
   "cell_type": "code",
   "execution_count": 4,
   "id": "f3340ff3",
   "metadata": {},
   "outputs": [
    {
     "name": "stderr",
     "output_type": "stream",
     "text": [
      "[nltk_data] Downloading package stopwords to\n",
      "[nltk_data]     C:\\Users\\Krish\\AppData\\Roaming\\nltk_data...\n",
      "[nltk_data]   Package stopwords is already up-to-date!\n"
     ]
    },
    {
     "data": {
      "text/plain": [
       "True"
      ]
     },
     "execution_count": 4,
     "metadata": {},
     "output_type": "execute_result"
    }
   ],
   "source": [
    "import nltk\n",
    "nltk.download('stopwords')"
   ]
  },
  {
   "cell_type": "code",
   "execution_count": 5,
   "id": "e92e8416",
   "metadata": {},
   "outputs": [],
   "source": [
    "import pandas as pd\n",
    "import numpy as np\n",
    "from nltk.corpus import stopwords\n",
    "import re\n",
    "import keras"
   ]
  },
  {
   "cell_type": "code",
   "execution_count": 6,
   "id": "d2750e1a",
   "metadata": {},
   "outputs": [
    {
     "name": "stdout",
     "output_type": "stream",
     "text": [
      "(93239, 11)\n"
     ]
    }
   ],
   "source": [
    "news_final=pd.read_csv(\"DataSet/News_Final.csv\")\n",
    "\n",
    "news_final.describe()\n",
    "print(news_final.shape)"
   ]
  },
  {
   "cell_type": "code",
   "execution_count": 7,
   "id": "aba35bcf",
   "metadata": {},
   "outputs": [
    {
     "name": "stdout",
     "output_type": "stream",
     "text": [
      "(81406, 11)\n"
     ]
    }
   ],
   "source": [
    "news_final[[\"Facebook\",\"GooglePlus\",\"LinkedIn\"]] = news_final[[\"Facebook\",\"GooglePlus\",\"LinkedIn\"]] .replace(-1, np.NaN)\n",
    "news_final.dropna(inplace=True)\n",
    "print(news_final.shape)"
   ]
  },
  {
   "cell_type": "code",
   "execution_count": 8,
   "id": "2a63e144",
   "metadata": {},
   "outputs": [],
   "source": [
    "#Data cleaning\n",
    "#removing unnecessary punctuations and tags\n",
    "\n",
    "def remove_pattern(input_txt, pattern):\n",
    "    r = re.findall(pattern, input_txt)\n",
    "    for i in r:\n",
    "        input_txt = re.sub(i, '', input_txt)\n",
    "    \n",
    "    return input_txt"
   ]
  },
  {
   "cell_type": "code",
   "execution_count": 9,
   "id": "e97704de",
   "metadata": {},
   "outputs": [
    {
     "name": "stderr",
     "output_type": "stream",
     "text": [
      "C:\\Users\\Krish\\AppData\\Local\\Temp/ipykernel_20428/63435972.py:4: FutureWarning: The default value of regex will change from True to False in a future version.\n",
      "  news_final['Title'] = news_final['Title'].str.replace(\"[^a-zA-Z#]\", \" \")\n",
      "C:\\Users\\Krish\\AppData\\Local\\Temp/ipykernel_20428/63435972.py:7: FutureWarning: The default value of regex will change from True to False in a future version.\n",
      "  news_final['Headline'] = news_final['Headline'].str.replace(\"[^a-zA-Z#]\", \" \")\n"
     ]
    }
   ],
   "source": [
    "news_final['Title'] = np.vectorize(remove_pattern)(news_final['Title'], \"@[\\\\w]*\")\n",
    "\n",
    "#replacing numbers and other special characters with a space in the Title elements\n",
    "news_final['Title'] = news_final['Title'].str.replace(\"[^a-zA-Z#]\", \" \")\n",
    "\n",
    "news_final['Headline'] = np.vectorize(remove_pattern)(news_final['Headline'], \"@[\\\\w]*\")\n",
    "news_final['Headline'] = news_final['Headline'].str.replace(\"[^a-zA-Z#]\", \" \")\n",
    "\n",
    "#remove stopwords\n",
    "stop = stopwords.words('english')\n",
    "news_final= pd.DataFrame(news_final)\n",
    "news_final['Title'] = news_final['Title'].apply(lambda x: ' '.join([word for word in x.split() if word not in (stop)]))\n",
    "\n",
    "\n",
    "stop = stopwords.words('english')\n",
    "news_final= pd.DataFrame(news_final)\n",
    "news_final['Headline'] = news_final['Headline'].apply(lambda x: ' '.join([word for word in x.split() if word not in (stop)]))\n"
   ]
  },
  {
   "cell_type": "code",
   "execution_count": 10,
   "id": "308f130f",
   "metadata": {},
   "outputs": [
    {
     "data": {
      "text/plain": [
       "IDLink               float64\n",
       "Title                 object\n",
       "Headline              object\n",
       "Source                object\n",
       "Topic                 object\n",
       "PublishDate           object\n",
       "SentimentTitle       float64\n",
       "SentimentHeadline    float64\n",
       "Facebook             float64\n",
       "GooglePlus           float64\n",
       "LinkedIn             float64\n",
       "dtype: object"
      ]
     },
     "execution_count": 10,
     "metadata": {},
     "output_type": "execute_result"
    }
   ],
   "source": [
    "news_final.dtypes"
   ]
  },
  {
   "cell_type": "code",
   "execution_count": 11,
   "id": "b8b62365",
   "metadata": {},
   "outputs": [
    {
     "data": {
      "text/html": [
       "<div>\n",
       "<style scoped>\n",
       "    .dataframe tbody tr th:only-of-type {\n",
       "        vertical-align: middle;\n",
       "    }\n",
       "\n",
       "    .dataframe tbody tr th {\n",
       "        vertical-align: top;\n",
       "    }\n",
       "\n",
       "    .dataframe thead th {\n",
       "        text-align: right;\n",
       "    }\n",
       "</style>\n",
       "<table border=\"1\" class=\"dataframe\">\n",
       "  <thead>\n",
       "    <tr style=\"text-align: right;\">\n",
       "      <th></th>\n",
       "      <th>IDLink</th>\n",
       "      <th>Title</th>\n",
       "      <th>Headline</th>\n",
       "      <th>Source</th>\n",
       "      <th>Topic</th>\n",
       "      <th>SharesOfFacebook</th>\n",
       "      <th>category_facebook</th>\n",
       "    </tr>\n",
       "  </thead>\n",
       "  <tbody>\n",
       "    <tr>\n",
       "      <th>0</th>\n",
       "      <td>311.0</td>\n",
       "      <td>Microsoft offering discount original Band UK p...</td>\n",
       "      <td>Just ahead market rollout Microsoft new Band U...</td>\n",
       "      <td>International Business Times via Yahoo UK &amp; Ir...</td>\n",
       "      <td>microsoft</td>\n",
       "      <td>0.0</td>\n",
       "      <td>1</td>\n",
       "    </tr>\n",
       "    <tr>\n",
       "      <th>1</th>\n",
       "      <td>252.0</td>\n",
       "      <td>Economy improve though change last months Asso...</td>\n",
       "      <td>quot In coming six months seems growing optimi...</td>\n",
       "      <td>IANS India Private Limited/Yahoo India News vi...</td>\n",
       "      <td>economy</td>\n",
       "      <td>0.0</td>\n",
       "      <td>1</td>\n",
       "    </tr>\n",
       "    <tr>\n",
       "      <th>2</th>\n",
       "      <td>227.0</td>\n",
       "      <td>Economy improve though change last months Asso...</td>\n",
       "      <td>New Delhi Nov IANS Majority Indian businesses ...</td>\n",
       "      <td>IANS via Yahoo Maktoob News</td>\n",
       "      <td>economy</td>\n",
       "      <td>0.0</td>\n",
       "      <td>1</td>\n",
       "    </tr>\n",
       "    <tr>\n",
       "      <th>3</th>\n",
       "      <td>307.0</td>\n",
       "      <td>Microsoft scales back free online storage plans</td>\n",
       "      <td>NEW YORK Microsoft getting stingy online stora...</td>\n",
       "      <td>The Columbian</td>\n",
       "      <td>microsoft</td>\n",
       "      <td>0.0</td>\n",
       "      <td>1</td>\n",
       "    </tr>\n",
       "    <tr>\n",
       "      <th>4</th>\n",
       "      <td>272.0</td>\n",
       "      <td>Pak economy firm level perspective Business Re...</td>\n",
       "      <td>The latest annual report Securities Exchange C...</td>\n",
       "      <td>Business Recorder</td>\n",
       "      <td>economy</td>\n",
       "      <td>0.0</td>\n",
       "      <td>1</td>\n",
       "    </tr>\n",
       "    <tr>\n",
       "      <th>...</th>\n",
       "      <td>...</td>\n",
       "      <td>...</td>\n",
       "      <td>...</td>\n",
       "      <td>...</td>\n",
       "      <td>...</td>\n",
       "      <td>...</td>\n",
       "      <td>...</td>\n",
       "    </tr>\n",
       "    <tr>\n",
       "      <th>81401</th>\n",
       "      <td>12561.0</td>\n",
       "      <td>For Wealthiest Private Tax System That Saves T...</td>\n",
       "      <td>A Winters political scientist Northwestern Uni...</td>\n",
       "      <td>New York Times</td>\n",
       "      <td>economy</td>\n",
       "      <td>29564.0</td>\n",
       "      <td>4</td>\n",
       "    </tr>\n",
       "    <tr>\n",
       "      <th>81402</th>\n",
       "      <td>72045.0</td>\n",
       "      <td>Obama legacy stake</td>\n",
       "      <td>Sreedhar Potarazu ophthalmologist entrepreneur...</td>\n",
       "      <td>CNN</td>\n",
       "      <td>obama</td>\n",
       "      <td>30489.0</td>\n",
       "      <td>4</td>\n",
       "    </tr>\n",
       "    <tr>\n",
       "      <th>81403</th>\n",
       "      <td>76901.0</td>\n",
       "      <td>I Miss Barack Obama</td>\n",
       "      <td>As primary season gone along strange sensation...</td>\n",
       "      <td>New York Times</td>\n",
       "      <td>obama</td>\n",
       "      <td>32385.0</td>\n",
       "      <td>4</td>\n",
       "    </tr>\n",
       "    <tr>\n",
       "      <th>81404</th>\n",
       "      <td>72143.0</td>\n",
       "      <td>Fact Check Top Lies Obama State Union</td>\n",
       "      <td>President Barack Obama promised final State Un...</td>\n",
       "      <td>Breitbart News</td>\n",
       "      <td>obama</td>\n",
       "      <td>40836.0</td>\n",
       "      <td>4</td>\n",
       "    </tr>\n",
       "    <tr>\n",
       "      <th>81405</th>\n",
       "      <td>27780.0</td>\n",
       "      <td>Editorial Welcome rain clouds issues economy</td>\n",
       "      <td>On back good grass growth Dairy NZ revised bre...</td>\n",
       "      <td>New Zealand Herald</td>\n",
       "      <td>economy</td>\n",
       "      <td>49211.0</td>\n",
       "      <td>4</td>\n",
       "    </tr>\n",
       "  </tbody>\n",
       "</table>\n",
       "<p>81406 rows × 7 columns</p>\n",
       "</div>"
      ],
      "text/plain": [
       "        IDLink                                              Title  \\\n",
       "0        311.0  Microsoft offering discount original Band UK p...   \n",
       "1        252.0  Economy improve though change last months Asso...   \n",
       "2        227.0  Economy improve though change last months Asso...   \n",
       "3        307.0    Microsoft scales back free online storage plans   \n",
       "4        272.0  Pak economy firm level perspective Business Re...   \n",
       "...        ...                                                ...   \n",
       "81401  12561.0  For Wealthiest Private Tax System That Saves T...   \n",
       "81402  72045.0                                 Obama legacy stake   \n",
       "81403  76901.0                                I Miss Barack Obama   \n",
       "81404  72143.0              Fact Check Top Lies Obama State Union   \n",
       "81405  27780.0       Editorial Welcome rain clouds issues economy   \n",
       "\n",
       "                                                Headline  \\\n",
       "0      Just ahead market rollout Microsoft new Band U...   \n",
       "1      quot In coming six months seems growing optimi...   \n",
       "2      New Delhi Nov IANS Majority Indian businesses ...   \n",
       "3      NEW YORK Microsoft getting stingy online stora...   \n",
       "4      The latest annual report Securities Exchange C...   \n",
       "...                                                  ...   \n",
       "81401  A Winters political scientist Northwestern Uni...   \n",
       "81402  Sreedhar Potarazu ophthalmologist entrepreneur...   \n",
       "81403  As primary season gone along strange sensation...   \n",
       "81404  President Barack Obama promised final State Un...   \n",
       "81405  On back good grass growth Dairy NZ revised bre...   \n",
       "\n",
       "                                                  Source      Topic  \\\n",
       "0      International Business Times via Yahoo UK & Ir...  microsoft   \n",
       "1      IANS India Private Limited/Yahoo India News vi...    economy   \n",
       "2                            IANS via Yahoo Maktoob News    economy   \n",
       "3                                          The Columbian  microsoft   \n",
       "4                                      Business Recorder    economy   \n",
       "...                                                  ...        ...   \n",
       "81401                                     New York Times    economy   \n",
       "81402                                                CNN      obama   \n",
       "81403                                     New York Times      obama   \n",
       "81404                                     Breitbart News      obama   \n",
       "81405                                 New Zealand Herald    economy   \n",
       "\n",
       "       SharesOfFacebook  category_facebook  \n",
       "0                   0.0                  1  \n",
       "1                   0.0                  1  \n",
       "2                   0.0                  1  \n",
       "3                   0.0                  1  \n",
       "4                   0.0                  1  \n",
       "...                 ...                ...  \n",
       "81401           29564.0                  4  \n",
       "81402           30489.0                  4  \n",
       "81403           32385.0                  4  \n",
       "81404           40836.0                  4  \n",
       "81405           49211.0                  4  \n",
       "\n",
       "[81406 rows x 7 columns]"
      ]
     },
     "execution_count": 11,
     "metadata": {},
     "output_type": "execute_result"
    }
   ],
   "source": [
    "z=[]\n",
    "z=list(zip(news_final['IDLink'],news_final['Title'],news_final['Headline'],news_final['Source'],news_final['Topic'],news_final['Facebook']))\n",
    "z1=sorted(z, key=lambda t: t[5])\n",
    "\n",
    "labels = ['IDLink','Title', 'Headline','Source', 'Topic', 'SharesOfFacebook']\n",
    "df_facebook = pd.DataFrame.from_records(z1, columns=labels)\n",
    "\n",
    "def label_emotion (row):\n",
    "   if row['SharesOfFacebook'] >=0 and row['SharesOfFacebook'] <=1050  :\n",
    "      return 1\n",
    "   if row['SharesOfFacebook'] > 1050 and row['SharesOfFacebook']<=15000:\n",
    "      return 2\n",
    "   if row['SharesOfFacebook'] > 15000 and row['SharesOfFacebook']<=20000:\n",
    "      return 3\n",
    "   if row['SharesOfFacebook'] >20000 and row['SharesOfFacebook'] <=50000:\n",
    "      return 4\n",
    "df_facebook['category_facebook'] = df_facebook.apply (lambda row: label_emotion (row),axis=1)\n",
    "\n",
    "df_facebook"
   ]
  },
  {
   "cell_type": "code",
   "execution_count": 12,
   "id": "d17b019c",
   "metadata": {},
   "outputs": [
    {
     "data": {
      "text/html": [
       "<div>\n",
       "<style scoped>\n",
       "    .dataframe tbody tr th:only-of-type {\n",
       "        vertical-align: middle;\n",
       "    }\n",
       "\n",
       "    .dataframe tbody tr th {\n",
       "        vertical-align: top;\n",
       "    }\n",
       "\n",
       "    .dataframe thead th {\n",
       "        text-align: right;\n",
       "    }\n",
       "</style>\n",
       "<table border=\"1\" class=\"dataframe\">\n",
       "  <thead>\n",
       "    <tr style=\"text-align: right;\">\n",
       "      <th></th>\n",
       "      <th>IDLink</th>\n",
       "      <th>Title</th>\n",
       "      <th>Headline</th>\n",
       "      <th>Source</th>\n",
       "      <th>Topic</th>\n",
       "      <th>SharesOfGooglePlus</th>\n",
       "      <th>category_GooglePlus</th>\n",
       "    </tr>\n",
       "  </thead>\n",
       "  <tbody>\n",
       "    <tr>\n",
       "      <th>0</th>\n",
       "      <td>311.0</td>\n",
       "      <td>Microsoft offering discount original Band UK p...</td>\n",
       "      <td>Just ahead market rollout Microsoft new Band U...</td>\n",
       "      <td>International Business Times via Yahoo UK &amp; Ir...</td>\n",
       "      <td>microsoft</td>\n",
       "      <td>0.0</td>\n",
       "      <td>1</td>\n",
       "    </tr>\n",
       "    <tr>\n",
       "      <th>1</th>\n",
       "      <td>252.0</td>\n",
       "      <td>Economy improve though change last months Asso...</td>\n",
       "      <td>quot In coming six months seems growing optimi...</td>\n",
       "      <td>IANS India Private Limited/Yahoo India News vi...</td>\n",
       "      <td>economy</td>\n",
       "      <td>0.0</td>\n",
       "      <td>1</td>\n",
       "    </tr>\n",
       "    <tr>\n",
       "      <th>2</th>\n",
       "      <td>227.0</td>\n",
       "      <td>Economy improve though change last months Asso...</td>\n",
       "      <td>New Delhi Nov IANS Majority Indian businesses ...</td>\n",
       "      <td>IANS via Yahoo Maktoob News</td>\n",
       "      <td>economy</td>\n",
       "      <td>0.0</td>\n",
       "      <td>1</td>\n",
       "    </tr>\n",
       "    <tr>\n",
       "      <th>3</th>\n",
       "      <td>307.0</td>\n",
       "      <td>Microsoft scales back free online storage plans</td>\n",
       "      <td>NEW YORK Microsoft getting stingy online stora...</td>\n",
       "      <td>The Columbian</td>\n",
       "      <td>microsoft</td>\n",
       "      <td>0.0</td>\n",
       "      <td>1</td>\n",
       "    </tr>\n",
       "    <tr>\n",
       "      <th>4</th>\n",
       "      <td>207.0</td>\n",
       "      <td>IDC predicts emergence DX economy</td>\n",
       "      <td>KUCHING The global digital economy enter new s...</td>\n",
       "      <td>The Borneo Post</td>\n",
       "      <td>economy</td>\n",
       "      <td>0.0</td>\n",
       "      <td>1</td>\n",
       "    </tr>\n",
       "    <tr>\n",
       "      <th>...</th>\n",
       "      <td>...</td>\n",
       "      <td>...</td>\n",
       "      <td>...</td>\n",
       "      <td>...</td>\n",
       "      <td>...</td>\n",
       "      <td>...</td>\n",
       "      <td>...</td>\n",
       "    </tr>\n",
       "    <tr>\n",
       "      <th>81401</th>\n",
       "      <td>2070.0</td>\n",
       "      <td>Intervention PM G working session Inclusive Gr...</td>\n",
       "      <td>The global economic growth remains weak slowdo...</td>\n",
       "      <td>Narendra Modi (press release) (blog)</td>\n",
       "      <td>economy</td>\n",
       "      <td>804.0</td>\n",
       "      <td>5</td>\n",
       "    </tr>\n",
       "    <tr>\n",
       "      <th>81402</th>\n",
       "      <td>35873.0</td>\n",
       "      <td>Microsoft teen girl AI turns Hitler loving sex...</td>\n",
       "      <td>Developers Microsoft created Tay AI modelled s...</td>\n",
       "      <td>Telegraph.co.uk</td>\n",
       "      <td>microsoft</td>\n",
       "      <td>973.0</td>\n",
       "      <td>5</td>\n",
       "    </tr>\n",
       "    <tr>\n",
       "      <th>81403</th>\n",
       "      <td>25397.0</td>\n",
       "      <td>Learning Alphabet</td>\n",
       "      <td>For decades massive market dominated two playe...</td>\n",
       "      <td>The Verge</td>\n",
       "      <td>microsoft</td>\n",
       "      <td>1001.0</td>\n",
       "      <td>5</td>\n",
       "    </tr>\n",
       "    <tr>\n",
       "      <th>81404</th>\n",
       "      <td>38485.0</td>\n",
       "      <td>Microsoft adding Linux command line Windows</td>\n",
       "      <td>Microsoft reaching Linux developers way compan...</td>\n",
       "      <td>The Verge</td>\n",
       "      <td>microsoft</td>\n",
       "      <td>1016.0</td>\n",
       "      <td>5</td>\n",
       "    </tr>\n",
       "    <tr>\n",
       "      <th>81405</th>\n",
       "      <td>23117.0</td>\n",
       "      <td>Under Sanders income jobs would soar economist...</td>\n",
       "      <td>Those things would happen Bernie Sanders becam...</td>\n",
       "      <td>CNNMoney</td>\n",
       "      <td>economy</td>\n",
       "      <td>1267.0</td>\n",
       "      <td>5</td>\n",
       "    </tr>\n",
       "  </tbody>\n",
       "</table>\n",
       "<p>81406 rows × 7 columns</p>\n",
       "</div>"
      ],
      "text/plain": [
       "        IDLink                                              Title  \\\n",
       "0        311.0  Microsoft offering discount original Band UK p...   \n",
       "1        252.0  Economy improve though change last months Asso...   \n",
       "2        227.0  Economy improve though change last months Asso...   \n",
       "3        307.0    Microsoft scales back free online storage plans   \n",
       "4        207.0                  IDC predicts emergence DX economy   \n",
       "...        ...                                                ...   \n",
       "81401   2070.0  Intervention PM G working session Inclusive Gr...   \n",
       "81402  35873.0  Microsoft teen girl AI turns Hitler loving sex...   \n",
       "81403  25397.0                                  Learning Alphabet   \n",
       "81404  38485.0        Microsoft adding Linux command line Windows   \n",
       "81405  23117.0  Under Sanders income jobs would soar economist...   \n",
       "\n",
       "                                                Headline  \\\n",
       "0      Just ahead market rollout Microsoft new Band U...   \n",
       "1      quot In coming six months seems growing optimi...   \n",
       "2      New Delhi Nov IANS Majority Indian businesses ...   \n",
       "3      NEW YORK Microsoft getting stingy online stora...   \n",
       "4      KUCHING The global digital economy enter new s...   \n",
       "...                                                  ...   \n",
       "81401  The global economic growth remains weak slowdo...   \n",
       "81402  Developers Microsoft created Tay AI modelled s...   \n",
       "81403  For decades massive market dominated two playe...   \n",
       "81404  Microsoft reaching Linux developers way compan...   \n",
       "81405  Those things would happen Bernie Sanders becam...   \n",
       "\n",
       "                                                  Source      Topic  \\\n",
       "0      International Business Times via Yahoo UK & Ir...  microsoft   \n",
       "1      IANS India Private Limited/Yahoo India News vi...    economy   \n",
       "2                            IANS via Yahoo Maktoob News    economy   \n",
       "3                                          The Columbian  microsoft   \n",
       "4                                        The Borneo Post    economy   \n",
       "...                                                  ...        ...   \n",
       "81401               Narendra Modi (press release) (blog)    economy   \n",
       "81402                                    Telegraph.co.uk  microsoft   \n",
       "81403                                          The Verge  microsoft   \n",
       "81404                                          The Verge  microsoft   \n",
       "81405                                           CNNMoney    economy   \n",
       "\n",
       "       SharesOfGooglePlus  category_GooglePlus  \n",
       "0                     0.0                    1  \n",
       "1                     0.0                    1  \n",
       "2                     0.0                    1  \n",
       "3                     0.0                    1  \n",
       "4                     0.0                    1  \n",
       "...                   ...                  ...  \n",
       "81401               804.0                    5  \n",
       "81402               973.0                    5  \n",
       "81403              1001.0                    5  \n",
       "81404              1016.0                    5  \n",
       "81405              1267.0                    5  \n",
       "\n",
       "[81406 rows x 7 columns]"
      ]
     },
     "execution_count": 12,
     "metadata": {},
     "output_type": "execute_result"
    }
   ],
   "source": [
    "z=[]\n",
    "z=list(zip(news_final['IDLink'],news_final['Title'],news_final['Headline'],news_final['Source'],news_final['Topic'],news_final['GooglePlus']))\n",
    "\n",
    "z1=sorted(z, key=lambda t: t[5])\n",
    "\n",
    "labels = ['IDLink','Title', 'Headline','Source', 'Topic', 'SharesOfGooglePlus']\n",
    "df_googlePlus = pd.DataFrame.from_records(z1, columns=labels)\n",
    "\n",
    "def label_emotion (row):\n",
    "   if row['SharesOfGooglePlus'] >=0 and row['SharesOfGooglePlus'] <=40  :\n",
    "      return 1\n",
    "   if row['SharesOfGooglePlus'] > 40 and row['SharesOfGooglePlus']<=120:\n",
    "      return 2\n",
    "   if row['SharesOfGooglePlus'] > 120 and row['SharesOfGooglePlus']<=600:\n",
    "      return 3\n",
    "   if row['SharesOfGooglePlus'] >600 and row['SharesOfGooglePlus'] <=605:\n",
    "      return 4\n",
    "   if row['SharesOfGooglePlus'] >605 and row['SharesOfGooglePlus'] <=1500:\n",
    "      return 5\n",
    "\n",
    "df_googlePlus['category_GooglePlus'] = df_googlePlus.apply (lambda row: label_emotion (row),axis=1)\n",
    "\n",
    "df_googlePlus\n"
   ]
  },
  {
   "cell_type": "code",
   "execution_count": 13,
   "id": "1d63470c",
   "metadata": {
    "scrolled": true
   },
   "outputs": [
    {
     "data": {
      "text/html": [
       "<div>\n",
       "<style scoped>\n",
       "    .dataframe tbody tr th:only-of-type {\n",
       "        vertical-align: middle;\n",
       "    }\n",
       "\n",
       "    .dataframe tbody tr th {\n",
       "        vertical-align: top;\n",
       "    }\n",
       "\n",
       "    .dataframe thead th {\n",
       "        text-align: right;\n",
       "    }\n",
       "</style>\n",
       "<table border=\"1\" class=\"dataframe\">\n",
       "  <thead>\n",
       "    <tr style=\"text-align: right;\">\n",
       "      <th></th>\n",
       "      <th>IDLink</th>\n",
       "      <th>Title</th>\n",
       "      <th>Headline</th>\n",
       "      <th>Source</th>\n",
       "      <th>Topic</th>\n",
       "      <th>SharesOfLinkedIn</th>\n",
       "      <th>category_LinkedIn</th>\n",
       "    </tr>\n",
       "  </thead>\n",
       "  <tbody>\n",
       "    <tr>\n",
       "      <th>0</th>\n",
       "      <td>311.0</td>\n",
       "      <td>Microsoft offering discount original Band UK p...</td>\n",
       "      <td>Just ahead market rollout Microsoft new Band U...</td>\n",
       "      <td>International Business Times via Yahoo UK &amp; Ir...</td>\n",
       "      <td>microsoft</td>\n",
       "      <td>0.0</td>\n",
       "      <td>1</td>\n",
       "    </tr>\n",
       "    <tr>\n",
       "      <th>1</th>\n",
       "      <td>252.0</td>\n",
       "      <td>Economy improve though change last months Asso...</td>\n",
       "      <td>quot In coming six months seems growing optimi...</td>\n",
       "      <td>IANS India Private Limited/Yahoo India News vi...</td>\n",
       "      <td>economy</td>\n",
       "      <td>0.0</td>\n",
       "      <td>1</td>\n",
       "    </tr>\n",
       "    <tr>\n",
       "      <th>2</th>\n",
       "      <td>227.0</td>\n",
       "      <td>Economy improve though change last months Asso...</td>\n",
       "      <td>New Delhi Nov IANS Majority Indian businesses ...</td>\n",
       "      <td>IANS via Yahoo Maktoob News</td>\n",
       "      <td>economy</td>\n",
       "      <td>0.0</td>\n",
       "      <td>1</td>\n",
       "    </tr>\n",
       "    <tr>\n",
       "      <th>3</th>\n",
       "      <td>307.0</td>\n",
       "      <td>Microsoft scales back free online storage plans</td>\n",
       "      <td>NEW YORK Microsoft getting stingy online stora...</td>\n",
       "      <td>The Columbian</td>\n",
       "      <td>microsoft</td>\n",
       "      <td>0.0</td>\n",
       "      <td>1</td>\n",
       "    </tr>\n",
       "    <tr>\n",
       "      <th>4</th>\n",
       "      <td>207.0</td>\n",
       "      <td>IDC predicts emergence DX economy</td>\n",
       "      <td>KUCHING The global digital economy enter new s...</td>\n",
       "      <td>The Borneo Post</td>\n",
       "      <td>economy</td>\n",
       "      <td>0.0</td>\n",
       "      <td>1</td>\n",
       "    </tr>\n",
       "    <tr>\n",
       "      <th>...</th>\n",
       "      <td>...</td>\n",
       "      <td>...</td>\n",
       "      <td>...</td>\n",
       "      <td>...</td>\n",
       "      <td>...</td>\n",
       "      <td>...</td>\n",
       "      <td>...</td>\n",
       "    </tr>\n",
       "    <tr>\n",
       "      <th>81401</th>\n",
       "      <td>30049.0</td>\n",
       "      <td>Think tank predicts Manitoba economy one count...</td>\n",
       "      <td>Manitoba economy fare quite well year earlier ...</td>\n",
       "      <td>Winnipeg Free Press</td>\n",
       "      <td>economy</td>\n",
       "      <td>3433.0</td>\n",
       "      <td>3</td>\n",
       "    </tr>\n",
       "    <tr>\n",
       "      <th>81402</th>\n",
       "      <td>21084.0</td>\n",
       "      <td>Microsoft Plumbs Ocean Depths Test Underwater ...</td>\n",
       "      <td>REDMOND Wash Taking page Jules Verne researche...</td>\n",
       "      <td>New York Times</td>\n",
       "      <td>microsoft</td>\n",
       "      <td>3652.0</td>\n",
       "      <td>3</td>\n",
       "    </tr>\n",
       "    <tr>\n",
       "      <th>81403</th>\n",
       "      <td>35329.0</td>\n",
       "      <td>Canadian economy approaching troubled waters</td>\n",
       "      <td>As federal budget tabled today question Canadi...</td>\n",
       "      <td>Winnipeg Free Press</td>\n",
       "      <td>economy</td>\n",
       "      <td>3716.0</td>\n",
       "      <td>3</td>\n",
       "    </tr>\n",
       "    <tr>\n",
       "      <th>81404</th>\n",
       "      <td>41816.0</td>\n",
       "      <td>Hospital wait times costing national economy B</td>\n",
       "      <td>Wait times health treatment costing Canadian e...</td>\n",
       "      <td>Winnipeg Free Press</td>\n",
       "      <td>economy</td>\n",
       "      <td>4328.0</td>\n",
       "      <td>3</td>\n",
       "    </tr>\n",
       "    <tr>\n",
       "      <th>81405</th>\n",
       "      <td>102171.0</td>\n",
       "      <td>Obama post White House job plans I gonna get L...</td>\n",
       "      <td>President Barack Obama endorsed LinkedIn job s...</td>\n",
       "      <td>Politico</td>\n",
       "      <td>obama</td>\n",
       "      <td>6362.0</td>\n",
       "      <td>4</td>\n",
       "    </tr>\n",
       "  </tbody>\n",
       "</table>\n",
       "<p>81406 rows × 7 columns</p>\n",
       "</div>"
      ],
      "text/plain": [
       "         IDLink                                              Title  \\\n",
       "0         311.0  Microsoft offering discount original Band UK p...   \n",
       "1         252.0  Economy improve though change last months Asso...   \n",
       "2         227.0  Economy improve though change last months Asso...   \n",
       "3         307.0    Microsoft scales back free online storage plans   \n",
       "4         207.0                  IDC predicts emergence DX economy   \n",
       "...         ...                                                ...   \n",
       "81401   30049.0  Think tank predicts Manitoba economy one count...   \n",
       "81402   21084.0  Microsoft Plumbs Ocean Depths Test Underwater ...   \n",
       "81403   35329.0       Canadian economy approaching troubled waters   \n",
       "81404   41816.0     Hospital wait times costing national economy B   \n",
       "81405  102171.0  Obama post White House job plans I gonna get L...   \n",
       "\n",
       "                                                Headline  \\\n",
       "0      Just ahead market rollout Microsoft new Band U...   \n",
       "1      quot In coming six months seems growing optimi...   \n",
       "2      New Delhi Nov IANS Majority Indian businesses ...   \n",
       "3      NEW YORK Microsoft getting stingy online stora...   \n",
       "4      KUCHING The global digital economy enter new s...   \n",
       "...                                                  ...   \n",
       "81401  Manitoba economy fare quite well year earlier ...   \n",
       "81402  REDMOND Wash Taking page Jules Verne researche...   \n",
       "81403  As federal budget tabled today question Canadi...   \n",
       "81404  Wait times health treatment costing Canadian e...   \n",
       "81405  President Barack Obama endorsed LinkedIn job s...   \n",
       "\n",
       "                                                  Source      Topic  \\\n",
       "0      International Business Times via Yahoo UK & Ir...  microsoft   \n",
       "1      IANS India Private Limited/Yahoo India News vi...    economy   \n",
       "2                            IANS via Yahoo Maktoob News    economy   \n",
       "3                                          The Columbian  microsoft   \n",
       "4                                        The Borneo Post    economy   \n",
       "...                                                  ...        ...   \n",
       "81401                                Winnipeg Free Press    economy   \n",
       "81402                                     New York Times  microsoft   \n",
       "81403                                Winnipeg Free Press    economy   \n",
       "81404                                Winnipeg Free Press    economy   \n",
       "81405                                           Politico      obama   \n",
       "\n",
       "       SharesOfLinkedIn  category_LinkedIn  \n",
       "0                   0.0                  1  \n",
       "1                   0.0                  1  \n",
       "2                   0.0                  1  \n",
       "3                   0.0                  1  \n",
       "4                   0.0                  1  \n",
       "...                 ...                ...  \n",
       "81401            3433.0                  3  \n",
       "81402            3652.0                  3  \n",
       "81403            3716.0                  3  \n",
       "81404            4328.0                  3  \n",
       "81405            6362.0                  4  \n",
       "\n",
       "[81406 rows x 7 columns]"
      ]
     },
     "execution_count": 13,
     "metadata": {},
     "output_type": "execute_result"
    }
   ],
   "source": [
    "z=[]\n",
    "z=list(zip(news_final['IDLink'],news_final['Title'],news_final['Headline'],news_final['Source'],news_final['Topic'],news_final['LinkedIn']))\n",
    "\n",
    "z1=sorted(z, key=lambda t: t[5])\n",
    "\n",
    "labels = ['IDLink','Title', 'Headline','Source', 'Topic', 'SharesOfLinkedIn']\n",
    "df_linkedIn = pd.DataFrame.from_records(z1, columns=labels)\n",
    "\n",
    "def label_emotion (row):\n",
    "   if row['SharesOfLinkedIn'] >=0 and row['SharesOfLinkedIn'] <=100  :\n",
    "      return 1\n",
    "   if row['SharesOfLinkedIn'] > 100 and row['SharesOfLinkedIn']<=2000:\n",
    "      return 2\n",
    "   if row['SharesOfLinkedIn'] > 2000 and row['SharesOfLinkedIn']<=6000:\n",
    "      return 3\n",
    "   if row['SharesOfLinkedIn'] >6000 and row['SharesOfLinkedIn'] <=6400:\n",
    "      return 4\n",
    "df_linkedIn['category_LinkedIn'] = df_linkedIn.apply (lambda row: label_emotion (row),axis=1)\n",
    "\n",
    "df_linkedIn"
   ]
  },
  {
   "cell_type": "code",
   "execution_count": 14,
   "id": "eb7a30c0",
   "metadata": {},
   "outputs": [],
   "source": [
    "from keras.preprocessing.text import one_hot\n",
    "# integer encode the documents\n",
    "vocab_size = 100\n",
    "encoded_docs = [one_hot(d, vocab_size) for d in df_facebook['Title']]"
   ]
  },
  {
   "cell_type": "code",
   "execution_count": 15,
   "id": "29bc3266",
   "metadata": {},
   "outputs": [
    {
     "data": {
      "text/plain": [
       "25"
      ]
     },
     "execution_count": 15,
     "metadata": {},
     "output_type": "execute_result"
    }
   ],
   "source": [
    "res = max(encoded_docs, key = len)\n",
    "len(res)"
   ]
  },
  {
   "cell_type": "code",
   "execution_count": 16,
   "id": "7dfe8c1f",
   "metadata": {},
   "outputs": [],
   "source": [
    "from keras.utils import pad_sequences\n",
    "max_length = 5\n",
    "padded_docs = pad_sequences(encoded_docs, maxlen=max_length, padding='post')"
   ]
  },
  {
   "cell_type": "code",
   "execution_count": 17,
   "id": "c3367af2",
   "metadata": {},
   "outputs": [
    {
     "data": {
      "text/plain": [
       "array([[14, 45, 37, 14, 91],\n",
       "       [75, 30, 81, 86, 11],\n",
       "       [75, 30, 81, 86, 11],\n",
       "       ...,\n",
       "       [37, 52, 12, 62,  0],\n",
       "       [74,  3, 62,  5, 71],\n",
       "       [85, 33, 34, 42, 33]])"
      ]
     },
     "execution_count": 17,
     "metadata": {},
     "output_type": "execute_result"
    }
   ],
   "source": [
    "padded_docs"
   ]
  },
  {
   "cell_type": "code",
   "execution_count": 18,
   "id": "fcc9ec56",
   "metadata": {},
   "outputs": [],
   "source": [
    "x = padded_docs\n",
    "y = df_facebook['category_facebook']\n",
    "from sklearn.model_selection import train_test_split\n",
    "x_train, x_test, y_train, y_test = train_test_split(x, y, random_state=0)\n"
   ]
  },
  {
   "cell_type": "code",
   "execution_count": 19,
   "id": "7c586352",
   "metadata": {},
   "outputs": [
    {
     "name": "stderr",
     "output_type": "stream",
     "text": [
      "C:\\Users\\Krish\\anaconda3\\lib\\site-packages\\sklearn\\linear_model\\_logistic.py:763: ConvergenceWarning: lbfgs failed to converge (status=1):\n",
      "STOP: TOTAL NO. of ITERATIONS REACHED LIMIT.\n",
      "\n",
      "Increase the number of iterations (max_iter) or scale the data as shown in:\n",
      "    https://scikit-learn.org/stable/modules/preprocessing.html\n",
      "Please also refer to the documentation for alternative solver options:\n",
      "    https://scikit-learn.org/stable/modules/linear_model.html#logistic-regression\n",
      "  n_iter_i = _check_optimize_result(\n"
     ]
    },
    {
     "data": {
      "text/plain": [
       "LogisticRegression(random_state=0)"
      ]
     },
     "execution_count": 19,
     "metadata": {},
     "output_type": "execute_result"
    }
   ],
   "source": [
    "from sklearn.linear_model import LogisticRegression\n",
    "#Fit logistic regression to the training set\n",
    "classifier = LogisticRegression(random_state=0)\n",
    "classifier.fit(x_train,y_train)"
   ]
  },
  {
   "cell_type": "code",
   "execution_count": 20,
   "id": "3d179d15",
   "metadata": {},
   "outputs": [
    {
     "name": "stdout",
     "output_type": "stream",
     "text": [
      "0.9733195754716981\n"
     ]
    }
   ],
   "source": [
    "y_pred = classifier.predict(x_test)\n",
    "from sklearn.metrics import accuracy_score\n",
    "print(accuracy_score(y_test,y_pred))"
   ]
  },
  {
   "cell_type": "code",
   "execution_count": 21,
   "id": "c22aac8b",
   "metadata": {},
   "outputs": [
    {
     "data": {
      "text/plain": [
       "KNeighborsClassifier()"
      ]
     },
     "execution_count": 21,
     "metadata": {},
     "output_type": "execute_result"
    }
   ],
   "source": [
    "from sklearn.neighbors import KNeighborsClassifier\n",
    "knn = KNeighborsClassifier(n_neighbors=5)\n",
    "knn.fit(x_train, y_train)"
   ]
  },
  {
   "cell_type": "code",
   "execution_count": null,
   "id": "9af29f5a",
   "metadata": {},
   "outputs": [],
   "source": [
    "y_pred = knn.predict(x_test)\n",
    "from sklearn.metrics import accuracy_score\n",
    "print(accuracy_score(y_test, y_pred))"
   ]
  },
  {
   "cell_type": "code",
   "execution_count": null,
   "id": "749cd780",
   "metadata": {},
   "outputs": [],
   "source": [
    "from sklearn.metrics import confusion_matrix\n",
    "cm = confusion_matrix(y_test, y_pred)\n",
    "print(cm)"
   ]
  },
  {
   "cell_type": "code",
   "execution_count": null,
   "id": "e1d64f84",
   "metadata": {},
   "outputs": [],
   "source": [
    "from keras.preprocessing.text import one_hot\n",
    "vocab_size = 100\n",
    "encoded_docs = [one_hot(d, vocab_size) for d in df_googlePlus['Title']]"
   ]
  },
  {
   "cell_type": "code",
   "execution_count": null,
   "id": "f3793614",
   "metadata": {},
   "outputs": [],
   "source": [
    "res = max(encoded_docs, key = len)\n",
    "len(res)"
   ]
  },
  {
   "cell_type": "code",
   "execution_count": null,
   "id": "355e4224",
   "metadata": {},
   "outputs": [],
   "source": [
    "from keras.utils import pad_sequences\n",
    "max_length = 25\n",
    "padded_docs = pad_sequences(encoded_docs, maxlen=max_length, padding='post')"
   ]
  },
  {
   "cell_type": "code",
   "execution_count": null,
   "id": "5f8d65a4",
   "metadata": {},
   "outputs": [],
   "source": [
    "from sklearn.linear_model import LogisticRegression\n",
    "x = padded_docs\n",
    "y = df_googlePlus['category_GooglePlus']\n",
    "from sklearn.model_selection import train_test_split\n",
    "x_train, x_test, y_train, y_test = train_test_split(x, y, random_state=0)\n",
    "#Fit logistic regression to the training set\n",
    "classifier = LogisticRegression(random_state=1)\n",
    "classifier.fit(x_train,y_train)"
   ]
  },
  {
   "cell_type": "code",
   "execution_count": null,
   "id": "ad22a2e0",
   "metadata": {},
   "outputs": [],
   "source": [
    "#Predicting the test set results and creating confusion matrix\n",
    "y_pred = classifier.predict(x_test)\n",
    "from sklearn.metrics import accuracy_score\n",
    "print(accuracy_score(y_test,y_pred))"
   ]
  },
  {
   "cell_type": "code",
   "execution_count": null,
   "id": "0ad4d542",
   "metadata": {},
   "outputs": [],
   "source": [
    "from sklearn.metrics import confusion_matrix\n",
    "cm = confusion_matrix(y_test, y_pred)\n",
    "print(cm)"
   ]
  },
  {
   "cell_type": "code",
   "execution_count": null,
   "id": "1c5e0d59",
   "metadata": {},
   "outputs": [],
   "source": [
    "from sklearn.svm import SVC\n",
    "model = SVC(kernel='linear')\n",
    "model.fit(x_train, y_train)\n",
    "y_pred = model.predict(x_test)\n",
    "print(accuracy_score(y_test, y_pred))"
   ]
  },
  {
   "cell_type": "code",
   "execution_count": null,
   "id": "629a1587",
   "metadata": {},
   "outputs": [],
   "source": [
    "knn = KNeighborsClassifier(n_neighbors=5)\n",
    "knn.fit(x_train, y_train)\n",
    "\n",
    "y_pred = knn.predict(x_test)\n",
    "from sklearn.metrics import accuracy_score\n",
    "print(accuracy_score(y_test, y_pred))"
   ]
  },
  {
   "cell_type": "code",
   "execution_count": null,
   "id": "48997581",
   "metadata": {},
   "outputs": [],
   "source": [
    "from keras.preprocessing.text import one_hot#import has not been moved from here for better understandability of the code\n",
    "# integer encode the documents\n",
    "vocab_size = 100\n",
    "encoded_docs = [one_hot(d, vocab_size) for d in df_linkedIn['Title']]"
   ]
  },
  {
   "cell_type": "code",
   "execution_count": null,
   "id": "b73fdd3e",
   "metadata": {},
   "outputs": [],
   "source": [
    "res = max(encoded_docs, key = len)\n",
    "len(res)"
   ]
  },
  {
   "cell_type": "code",
   "execution_count": null,
   "id": "19b8305f",
   "metadata": {},
   "outputs": [],
   "source": [
    "\"\"\"The sequences have different lengths and Keras prefers inputs to be vectorized and all inputs to have the same length. \n",
    "We will pad all input sequences to have the length of 4.\n",
    "Again, we can do this with a built in Keras function, in this case the pad_sequences() function.\n",
    "pad documents to a max length of 4 words\n",
    "\"\"\"\n",
    "from keras.utils import pad_sequences\n",
    "max_length = 25\n",
    "padded_docs = pad_sequences(encoded_docs, maxlen=max_length, padding='post')"
   ]
  },
  {
   "cell_type": "code",
   "execution_count": null,
   "id": "f075a1f5",
   "metadata": {},
   "outputs": [],
   "source": [
    "from sklearn.linear_model import LogisticRegression\n",
    "x = padded_docs\n",
    "y = df_linkedIn['category_LinkedIn']\n",
    "from sklearn.model_selection import train_test_split\n",
    "x_train, x_test, y_train, y_test = train_test_split(x, y, random_state=0)\n",
    "#Fit logistic regression to the training set\n",
    "classifier = LogisticRegression(random_state=1)\n",
    "classifier.fit(x_train,y_train)"
   ]
  },
  {
   "cell_type": "code",
   "execution_count": null,
   "id": "f135b48c",
   "metadata": {},
   "outputs": [],
   "source": [
    "y_pred = classifier.predict(x_test)\n",
    "from sklearn.metrics import accuracy_score\n",
    "print(accuracy_score(y_test,y_pred))"
   ]
  },
  {
   "cell_type": "code",
   "execution_count": null,
   "id": "6c031e95",
   "metadata": {},
   "outputs": [],
   "source": [
    "from sklearn.svm import SVC\n",
    "model = SVC(kernel='linear')\n",
    "model.fit(x_train, y_train)\n",
    "y_pred = model.predict(x_test)\n",
    "print(accuracy_score(y_test, y_pred))"
   ]
  },
  {
   "cell_type": "code",
   "execution_count": null,
   "id": "b7bc4981",
   "metadata": {},
   "outputs": [],
   "source": [
    "from sklearn.metrics import confusion_matrix\n",
    "cm = confusion_matrix(y_test, y_pred)\n",
    "print(cm)"
   ]
  },
  {
   "cell_type": "code",
   "execution_count": null,
   "id": "4d51c414",
   "metadata": {},
   "outputs": [],
   "source": [
    "knn = KNeighborsClassifier(n_neighbors=5)\n",
    "knn.fit(x_train, y_train)\n",
    "\n",
    "y_pred = knn.predict(x_test)\n",
    "from sklearn.metrics import accuracy_score\n",
    "print(accuracy_score(y_test, y_pred))"
   ]
  },
  {
   "cell_type": "code",
   "execution_count": null,
   "id": "76ca6c84",
   "metadata": {},
   "outputs": [],
   "source": [
    "from sklearn.metrics import confusion_matrix\n",
    "cm = confusion_matrix(y_test, y_pred)\n",
    "print(cm)"
   ]
  },
  {
   "cell_type": "code",
   "execution_count": null,
   "id": "578781e3",
   "metadata": {},
   "outputs": [],
   "source": []
  }
 ],
 "metadata": {
  "kernelspec": {
   "display_name": "Python 3 (ipykernel)",
   "language": "python",
   "name": "python3"
  },
  "language_info": {
   "codemirror_mode": {
    "name": "ipython",
    "version": 3
   },
   "file_extension": ".py",
   "mimetype": "text/x-python",
   "name": "python",
   "nbconvert_exporter": "python",
   "pygments_lexer": "ipython3",
   "version": "3.9.7"
  }
 },
 "nbformat": 4,
 "nbformat_minor": 5
}
